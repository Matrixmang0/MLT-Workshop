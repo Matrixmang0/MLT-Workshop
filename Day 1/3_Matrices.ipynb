{
  "nbformat": 4,
  "nbformat_minor": 0,
  "metadata": {
    "colab": {
      "provenance": []
    },
    "kernelspec": {
      "name": "python3",
      "display_name": "Python 3"
    },
    "language_info": {
      "name": "python"
    }
  },
  "cells": [
    {
      "cell_type": "markdown",
      "source": [
        "# Matrices\n"
      ],
      "metadata": {
        "id": "H729Vxqsdh5_"
      }
    },
    {
      "cell_type": "markdown",
      "source": [
        "## Import"
      ],
      "metadata": {
        "id": "iQLGiDT32DHY"
      }
    },
    {
      "cell_type": "code",
      "source": [
        "import numpy as np"
      ],
      "metadata": {
        "id": "NTY1DDOO6aQS"
      },
      "execution_count": 1,
      "outputs": []
    },
    {
      "cell_type": "markdown",
      "source": [
        "## Matrix as a `NumPy` array\n",
        "\n",
        "Everything in `NumPy` is an array. A matrix is also an array. Let us create a simple matrix:\n",
        "\n",
        "$$\n",
        "\\textbf{M} = \\begin{bmatrix}\n",
        "1 & 2 & 3\\\\\n",
        "4 & 5 & 6\\\\\n",
        "7 & 8 & 9\n",
        "\\end{bmatrix}\n",
        "$$\n",
        "\n",
        "In `NumPy`:"
      ],
      "metadata": {
        "id": "QchFdrAp6c0E"
      }
    },
    {
      "cell_type": "code",
      "source": [
        "M = np.array([[1, 2, 3],\n",
        "              [4, 5, 6],\n",
        "              [7, 8, 9]])\n",
        "M"
      ],
      "metadata": {
        "id": "DURrZ-wb6426",
        "colab": {
          "base_uri": "https://localhost:8080/"
        },
        "outputId": "051dbad5-a760-41e2-893e-25e82b2c85b5"
      },
      "execution_count": 2,
      "outputs": [
        {
          "output_type": "execute_result",
          "data": {
            "text/plain": [
              "array([[1, 2, 3],\n",
              "       [4, 5, 6],\n",
              "       [7, 8, 9]])"
            ]
          },
          "metadata": {},
          "execution_count": 2
        }
      ]
    },
    {
      "cell_type": "markdown",
      "source": [
        "## Adding two matrices\n",
        "\n",
        "Let us now add the following matrices:\n",
        "\n",
        "$$\n",
        "\\textbf{A} = \\begin{bmatrix}\n",
        "1 & 2\\\\\n",
        "3 & 4\n",
        "\\end{bmatrix}, \\textbf{B} = \\begin{bmatrix}\n",
        "5 & 6\\\\\n",
        "7 & 8\n",
        "\\end{bmatrix}\n",
        "$$\n",
        "\n",
        "then,\n",
        "\n",
        "$$\n",
        "\\textbf{C} = \\textbf{A} + \\textbf{B}  = \\begin{bmatrix}\n",
        "6 & 8\\\\\n",
        "10 & 12\n",
        "\\end{bmatrix}\n",
        "$$\n",
        "\n",
        "In `NumPy`:"
      ],
      "metadata": {
        "id": "L7h4kYjw7XKe"
      }
    },
    {
      "cell_type": "code",
      "source": [
        "A = np.array([[1, 2], [3, 4]])\n",
        "B = np.array([[5, 6], [7, 8]])\n",
        "C = A + B\n",
        "C"
      ],
      "metadata": {
        "id": "rOV92c-Y7SJT",
        "colab": {
          "base_uri": "https://localhost:8080/"
        },
        "outputId": "33a632ef-f89d-4896-fa71-b2ab0e36dde7"
      },
      "execution_count": 3,
      "outputs": [
        {
          "output_type": "execute_result",
          "data": {
            "text/plain": [
              "array([[ 6,  8],\n",
              "       [10, 12]])"
            ]
          },
          "metadata": {},
          "execution_count": 3
        }
      ]
    },
    {
      "cell_type": "markdown",
      "source": [
        "## Scaling a matrix\n",
        "\n",
        "Scaling a matrix is nothing but element-wise multiplication:\n",
        "\n",
        "$$\n",
        "\\textbf{M} = \\begin{bmatrix}\n",
        "1 & 2 & 3\\\\\n",
        "4 & 5 & 6\\\\\n",
        "7 & 8 & 9\n",
        "\\end{bmatrix}\n",
        "$$\n",
        "\n",
        "then,\n",
        "\n",
        "$$\n",
        "3 \\textbf{M} = \\begin{bmatrix}\n",
        "3 & 6 & 9\\\\\n",
        "12 & 15 & 18\\\\\n",
        "21 & 24 & 27\n",
        "\\end{bmatrix}\n",
        "$$\n",
        "\n",
        "In `NumPy`:"
      ],
      "metadata": {
        "id": "m_pCQww198OD"
      }
    },
    {
      "cell_type": "code",
      "source": [
        "M = np.array([[1, 2, 3], [4, 5, 6], [7, 8, 9]])\n",
        "3 * M"
      ],
      "metadata": {
        "id": "jM_o92DpBoYe",
        "colab": {
          "base_uri": "https://localhost:8080/"
        },
        "outputId": "623aba88-6566-4130-d0e5-fd956a17ca2b"
      },
      "execution_count": 4,
      "outputs": [
        {
          "output_type": "execute_result",
          "data": {
            "text/plain": [
              "array([[ 3,  6,  9],\n",
              "       [12, 15, 18],\n",
              "       [21, 24, 27]])"
            ]
          },
          "metadata": {},
          "execution_count": 4
        }
      ]
    },
    {
      "cell_type": "markdown",
      "source": [
        "## Element-wise multiplication of matrices\n",
        "\n",
        "Consider two matrices:\n",
        "\n",
        "$$\n",
        "\\textbf{A} = \\begin{bmatrix}\n",
        "1 & 2\\\\\n",
        "3 & 4\n",
        "\\end{bmatrix}, \\textbf{B} = \\begin{bmatrix}\n",
        "5 & 6\\\\\n",
        "7 & 8\n",
        "\\end{bmatrix}\n",
        "$$\n",
        "\n",
        "The element-wise product is given by $\\textbf{A} \\odot \\textbf{B}$:\n",
        "\n",
        "$$\n",
        "\\textbf{C} = \\textbf{A} \\odot \\textbf{B} = \\begin{bmatrix}\n",
        "5 & 12\\\\\n",
        "21 & 32\n",
        "\\end{bmatrix}\n",
        "$$\n",
        "\n",
        "In `NumPy`:"
      ],
      "metadata": {
        "id": "hmE4xEve7y0n"
      }
    },
    {
      "cell_type": "code",
      "source": [
        "A = np.array([[1, 2], [3, 4]])\n",
        "B = np.array([[5, 6], [7, 8]])\n",
        "C = A * B\n",
        "C"
      ],
      "metadata": {
        "id": "USCv3DX18gbD",
        "colab": {
          "base_uri": "https://localhost:8080/"
        },
        "outputId": "8429a8e3-3a02-4b61-b264-b0e346090b2a"
      },
      "execution_count": 5,
      "outputs": [
        {
          "output_type": "execute_result",
          "data": {
            "text/plain": [
              "array([[ 5, 12],\n",
              "       [21, 32]])"
            ]
          },
          "metadata": {},
          "execution_count": 5
        }
      ]
    },
    {
      "cell_type": "markdown",
      "source": [
        "## Element-wise functions of matrices\n",
        "\n",
        "Given a matrix, we sometimes would want to apply a function to every element of the matrix. We will consider two examples."
      ],
      "metadata": {
        "id": "V3iWGy8-8xho"
      }
    },
    {
      "cell_type": "markdown",
      "source": [
        "### Example-1\n",
        "\n",
        "For example, we may want to take the absolute value of all the elements. Let us say $f(x) = |x|$, then:\n",
        "\n",
        "$$\n",
        "\\mathbf{A} = \\begin{bmatrix}\n",
        "-1 & 2\\\\\n",
        "-3 & -4\n",
        "\\end{bmatrix}\n",
        "$$\n",
        "\n",
        "then:\n",
        "\n",
        "$$\n",
        "\\begin{bmatrix}\n",
        "f(-1) & f(2)\\\\\n",
        "f(-3) & f(-4)\n",
        "\\end{bmatrix} =\n",
        "\\begin{bmatrix}\n",
        "1 & 2\\\\\n",
        "3 & 4\n",
        "\\end{bmatrix}\n",
        "$$\n",
        "\n",
        "In `NumPy`, this becomes:"
      ],
      "metadata": {
        "id": "gVkkmUzNvppN"
      }
    },
    {
      "cell_type": "code",
      "source": [
        "A = np.array([[-1, 2], [-3, -4]])\n",
        "np.abs(A)"
      ],
      "metadata": {
        "id": "8svqjjFy-QG9",
        "colab": {
          "base_uri": "https://localhost:8080/"
        },
        "outputId": "80a8fec2-74ca-420f-d1b4-e0849bd6da79"
      },
      "execution_count": 6,
      "outputs": [
        {
          "output_type": "execute_result",
          "data": {
            "text/plain": [
              "array([[1, 2],\n",
              "       [3, 4]])"
            ]
          },
          "metadata": {},
          "execution_count": 6
        }
      ]
    },
    {
      "cell_type": "markdown",
      "source": [
        "### Example-2\n",
        "\n",
        "We might want to square each element of the matrix. If $\\textbf{A}$ is a matrix, then $\\textbf{B}$ could be defined element-wise as follows:\n",
        "\n",
        "$$\n",
        "B_{ij} = A_{ij}^2\n",
        "$$\n",
        "\n",
        "Let us compute $\\mathbf{B}$ for the following matrix:\n",
        "\n",
        "$$\n",
        "\\mathbf{A} = \\begin{bmatrix}\n",
        "1 & \\sqrt{2}\\\\\n",
        "\\sqrt{3} & 2\n",
        "\\end{bmatrix}\n",
        "$$\n",
        "\n",
        "In `NumPy`:"
      ],
      "metadata": {
        "id": "FYiMrhwx-hXT"
      }
    },
    {
      "cell_type": "code",
      "source": [
        "A = np.array([[1,np.sqrt(2)], [np.sqrt(3), 2]])\n",
        "B = A ** 2\n",
        "B"
      ],
      "metadata": {
        "id": "uqym9th4-ywH",
        "colab": {
          "base_uri": "https://localhost:8080/"
        },
        "outputId": "d7618a10-24e5-45fa-8e60-623de1cb46a5"
      },
      "execution_count": 7,
      "outputs": [
        {
          "output_type": "execute_result",
          "data": {
            "text/plain": [
              "array([[1., 2.],\n",
              "       [3., 4.]])"
            ]
          },
          "metadata": {},
          "execution_count": 7
        }
      ]
    },
    {
      "cell_type": "markdown",
      "source": [
        "## Transpose of a matrix\n",
        "\n",
        "Given a matrix $\\textbf{M}$:\n",
        "\n",
        "$$\n",
        "\\textbf{M} = \\begin{bmatrix}\n",
        "1 & 2 & 3\\\\\n",
        "4 & 5 & 6\n",
        "\\end{bmatrix}\n",
        "$$\n",
        "\n",
        "then, its transpose $\\textbf{M}^{T}$ is:\n",
        "\n",
        "$$\n",
        "\\textbf{M}^{T} = \\begin{bmatrix}\n",
        "1 & 4\\\\\n",
        "2 & 5\\\\\n",
        "3 & 6\n",
        "\\end{bmatrix}\n",
        "$$\n",
        "\n",
        "In `NumPy`:"
      ],
      "metadata": {
        "id": "-Pfh-LgH_AHi"
      }
    },
    {
      "cell_type": "code",
      "source": [
        "M = np.array([[1, 2, 3], [4, 5, 6]])\n",
        "#np.transpose(M)\n",
        "M.T"
      ],
      "metadata": {
        "id": "9uBXpMH3_5pw",
        "colab": {
          "base_uri": "https://localhost:8080/"
        },
        "outputId": "acedc286-ddb0-4314-983e-56f7f59d253d"
      },
      "execution_count": 8,
      "outputs": [
        {
          "output_type": "execute_result",
          "data": {
            "text/plain": [
              "array([[1, 4],\n",
              "       [2, 5],\n",
              "       [3, 6]])"
            ]
          },
          "metadata": {},
          "execution_count": 8
        }
      ]
    },
    {
      "cell_type": "markdown",
      "source": [
        "## Shape and dimension of a matrix\n",
        "\n",
        "Matrices are \"two dimensional\" arrays. So all matrices in `NumPy` have array-dimension equal to two. The shape of the `NumPy` array gives what we usually call the dimension of the matrix in the linear algebra sense.\n",
        "\n",
        "Explore these two ideas for:\n",
        "\n",
        "$$\n",
        "\\mathbf{M} = \\begin{bmatrix}\n",
        "1 & 2 & 3\\\\\n",
        "4 & 5 & 6\\\\\n",
        "\\end{bmatrix}\n",
        "$$\n",
        "\n",
        "In `NumPy`:"
      ],
      "metadata": {
        "id": "wDsjZjevz1eg"
      }
    },
    {
      "cell_type": "code",
      "source": [
        "M = np.array([[1, 2, 3], [4, 5, 6]])\n",
        "# rows X cols\n",
        "print(\"The shape of the matrix M is\", M.shape)\n",
        "# number of axes\n",
        "print(\"The dimension of the matrix M is\", M.ndim)"
      ],
      "metadata": {
        "id": "8WPQSzfzgSO1",
        "colab": {
          "base_uri": "https://localhost:8080/"
        },
        "outputId": "884c51dd-b913-4149-fac5-1bcc5d447405"
      },
      "execution_count": 9,
      "outputs": [
        {
          "output_type": "stream",
          "name": "stdout",
          "text": [
            "The shape of the matrix M is (2, 3)\n",
            "The dimension of the matrix M is 2\n"
          ]
        }
      ]
    },
    {
      "cell_type": "markdown",
      "source": [
        "## Vectors as matrices\n",
        "\n",
        "Each vector can be viewed as a matrix. Column vectors are matrices of shape $(d, 1)$. Row vectors are matrices of shape $(1, d)$. Let us look at how NumPy treats both these cases:\n"
      ],
      "metadata": {
        "id": "4wKzNg0afnIo"
      }
    },
    {
      "cell_type": "code",
      "source": [
        "x = np.array([1, 2, 3])\n",
        "print('x is a vector of shape', x.shape)\n",
        "x_col_mat = np.expand_dims(x, axis = 1)\n",
        "print('x_col_mat is a matrix of shape', x_col_mat.shape)\n",
        "x_row_mat = np.expand_dims(x, axis = 0)\n",
        "print('x_row_mat is a matrix of shape', x_row_mat.shape)"
      ],
      "metadata": {
        "id": "v2Tqn0AGfzKA",
        "colab": {
          "base_uri": "https://localhost:8080/"
        },
        "outputId": "c56a9db9-e9a1-4d32-a77f-d1b0129acf09"
      },
      "execution_count": 10,
      "outputs": [
        {
          "output_type": "stream",
          "name": "stdout",
          "text": [
            "x is a vector of shape (3,)\n",
            "x_col_mat is a matrix of shape (3, 1)\n",
            "x_row_mat is a matrix of shape (1, 3)\n"
          ]
        }
      ]
    },
    {
      "cell_type": "markdown",
      "source": [
        "## Products involving matrices and vectors\n",
        "\n",
        "We will look at the following products:\n",
        "- matrix - matrix\n",
        "- matrix - vector\n",
        "- vector - matrix\n",
        "- vector - vector"
      ],
      "metadata": {
        "id": "GpQXZMCve8Wf"
      }
    },
    {
      "cell_type": "markdown",
      "source": [
        "### Product of two matrices\n",
        "\n",
        "Given two matrices:\n",
        "\n",
        "$$\n",
        "\\textbf{A} = \\begin{bmatrix}\n",
        "1 & 2 & 3\\\\\n",
        "4 & 5 & 6\n",
        "\\end{bmatrix}, \\textbf{B} = \\begin{bmatrix}\n",
        "6 & 7\\\\\n",
        "8 & 9\\\\\n",
        "10 & 11\n",
        "\\end{bmatrix}\n",
        "$$\n",
        "\n",
        "then,\n",
        "\n",
        "$$\n",
        "\\textbf{C} = \\textbf{A} \\times \\textbf{B} = \\begin{bmatrix}\n",
        "52 & 58\\\\\n",
        "124 & 139\n",
        "\\end{bmatrix}\n",
        "$$\n",
        "\n",
        "In `NumPy`:"
      ],
      "metadata": {
        "id": "ugLU7PhgA548"
      }
    },
    {
      "cell_type": "code",
      "source": [
        "A = np.array([[1, 2, 3], [4, 5, 6]])\n",
        "B = np.array([[6, 7], [8, 9], [10, 11]])\n",
        "print(A.shape, B.shape)\n",
        "C = A @ B\n",
        "C"
      ],
      "metadata": {
        "id": "sbiOJrIzBkFg",
        "colab": {
          "base_uri": "https://localhost:8080/"
        },
        "outputId": "410934f2-2846-431a-8ce2-1f31b1238d77"
      },
      "execution_count": 11,
      "outputs": [
        {
          "output_type": "stream",
          "name": "stdout",
          "text": [
            "(2, 3) (3, 2)\n"
          ]
        },
        {
          "output_type": "execute_result",
          "data": {
            "text/plain": [
              "array([[ 52,  58],\n",
              "       [124, 139]])"
            ]
          },
          "metadata": {},
          "execution_count": 11
        }
      ]
    },
    {
      "cell_type": "markdown",
      "source": [
        "### Product of a matrix and a (column) vector\n",
        "\n",
        "Given the matrix $\\mathbf{A}$ and the vector $\\mathbf{x}$:\n",
        "\n",
        "$$\n",
        "\\mathbf{A} = \\begin{bmatrix}\n",
        "1 & 2 & 3\\\\\n",
        "4 & 5 & 6\\\\\n",
        "7 & 8 & 9\n",
        "\\end{bmatrix}, \\mathbf{x} = \\begin{bmatrix}\n",
        "6\\\\\n",
        "7\\\\\n",
        "8\n",
        "\\end{bmatrix}\n",
        "$$\n",
        "\n",
        "The product $\\mathbf{Ax}$ is given by:\n",
        "\n",
        "$$\n",
        "\\mathbf{C} = \\mathbf{A x} = \\begin{bmatrix}\n",
        "44\\\\\n",
        "107\\\\\n",
        "170\n",
        "\\end{bmatrix}\n",
        "$$\n",
        "\n",
        "In `NumPy`:"
      ],
      "metadata": {
        "id": "zdFPst7KCtgl"
      }
    },
    {
      "cell_type": "code",
      "source": [
        "A = np.array([[1, 2, 3], [4, 5, 6], [7, 8, 9]])\n",
        "x = np.array([6, 7, 8])\n",
        "A @ x"
      ],
      "metadata": {
        "id": "F9tQwGumDfgv",
        "colab": {
          "base_uri": "https://localhost:8080/"
        },
        "outputId": "2348ad6a-6c58-4f9c-89df-573464a6800a"
      },
      "execution_count": 12,
      "outputs": [
        {
          "output_type": "execute_result",
          "data": {
            "text/plain": [
              "array([ 44, 107, 170])"
            ]
          },
          "metadata": {},
          "execution_count": 12
        }
      ]
    },
    {
      "cell_type": "markdown",
      "source": [
        "### Product of a (row) vector and a matrix\n",
        "\n",
        "Given the matrix $\\mathbf{A}$ and the vector $\\mathbf{x}$:\n",
        "\n",
        "$$\n",
        "\\mathbf{A} = \\begin{bmatrix}\n",
        "1 & 2 & 3\\\\\n",
        "4 & 5 & 6\\\\\n",
        "7 & 8 & 9\n",
        "\\end{bmatrix}, \\mathbf{x} = \\begin{bmatrix}\n",
        "6\\\\\n",
        "7\\\\\n",
        "8\n",
        "\\end{bmatrix}\n",
        "$$\n",
        "\n",
        "The product $\\mathbf{x}^T \\mathbf{A}$ is given by:\n",
        "\n",
        "$$\n",
        "\\mathbf{C} = \\mathbf{x}^T \\mathbf{A} = \\begin{bmatrix}\n",
        "90 & 111 & 132\n",
        "\\end{bmatrix}\n",
        "$$\n",
        "\n",
        "In `NumPy`:"
      ],
      "metadata": {
        "id": "czO_GwynKHWQ"
      }
    },
    {
      "cell_type": "code",
      "source": [
        "A = np.array([[1, 2, 3], [4, 5, 6], [7, 8, 9]])\n",
        "x = np.array([6, 7, 8])\n",
        "x @ A"
      ],
      "metadata": {
        "id": "C_n2CZRhKTio",
        "colab": {
          "base_uri": "https://localhost:8080/"
        },
        "outputId": "d776e0c2-aedb-4ce2-f806-690ee014cf2c"
      },
      "execution_count": 13,
      "outputs": [
        {
          "output_type": "execute_result",
          "data": {
            "text/plain": [
              "array([ 90, 111, 132])"
            ]
          },
          "metadata": {},
          "execution_count": 13
        }
      ]
    },
    {
      "cell_type": "markdown",
      "source": [
        "### (Inner) Product of a (row) vector and a (column) vector\n",
        "\n",
        "The product of a row vector and a column vector is nothing but the usual dot product:\n",
        "\n",
        "$$\n",
        "\\mathbf{x}^T = \\begin{bmatrix}\n",
        "1 & 2 & 3\n",
        "\\end{bmatrix}, \\quad\n",
        "\\mathbf{y} = \\begin{bmatrix}\n",
        "4\\\\\n",
        "5\\\\\n",
        "6\n",
        "\\end{bmatrix}\n",
        "$$\n",
        "\n",
        "The product $\\mathbf{x}^T \\mathbf{y}$ is then:\n",
        "\n",
        "$$\n",
        "\\mathbf{x}^T \\mathbf{y} = 32\n",
        "$$\n",
        "\n",
        "In `NumPy`:"
      ],
      "metadata": {
        "id": "d0impiXDL6_s"
      }
    },
    {
      "cell_type": "code",
      "source": [
        "x = np.array([1, 2, 3])\n",
        "y = np.array([4, 5, 6])\n",
        "x @ y"
      ],
      "metadata": {
        "id": "Wch5wXY3MZol",
        "colab": {
          "base_uri": "https://localhost:8080/"
        },
        "outputId": "0dfe5ab7-de89-419d-c4ef-296ffe53af6a"
      },
      "execution_count": 14,
      "outputs": [
        {
          "output_type": "execute_result",
          "data": {
            "text/plain": [
              "32"
            ]
          },
          "metadata": {},
          "execution_count": 14
        }
      ]
    },
    {
      "cell_type": "markdown",
      "source": [
        "### (Outer) Product of a (column) vector and a (row) vector\n",
        "\n",
        "The product of a column vector and a row vector is an outer product:\n",
        "\n",
        "$$\n",
        "\\mathbf{x} = \\begin{bmatrix}\n",
        "1\\\\\n",
        "2\\\\\n",
        "3\n",
        "\\end{bmatrix}, \\quad\n",
        "\\mathbf{y} = \\begin{bmatrix}\n",
        "4 & 5 & 6\n",
        "\\end{bmatrix}\n",
        "$$\n",
        "\n",
        "The product $\\mathbf{x} \\mathbf{y}^T$ is then:\n",
        "\n",
        "$$\n",
        "\\mathbf{x} \\mathbf{y}^T = \\begin{bmatrix}\n",
        "4 & 5 & 6\\\\\n",
        "8 & 10 & 12\\\\\n",
        "12 & 15 & 18\n",
        "\\end{bmatrix}\n",
        "$$\n",
        "\n",
        "In `NumPy`:"
      ],
      "metadata": {
        "id": "xtZ4gUhdMrvM"
      }
    },
    {
      "cell_type": "code",
      "source": [
        "x = np.array([1, 2, 3])\n",
        "y = np.array([4, 5, 6])\n",
        "x_new = np.expand_dims(x, axis = 1)\n",
        "y_new = np.expand_dims(y, axis = 0)\n",
        "x_new @ y_new"
      ],
      "metadata": {
        "id": "p5a1jU1cNDVm",
        "colab": {
          "base_uri": "https://localhost:8080/"
        },
        "outputId": "bdde7bbe-b541-4a9a-b83d-d8fa8e419142"
      },
      "execution_count": 15,
      "outputs": [
        {
          "output_type": "execute_result",
          "data": {
            "text/plain": [
              "array([[ 4,  5,  6],\n",
              "       [ 8, 10, 12],\n",
              "       [12, 15, 18]])"
            ]
          },
          "metadata": {},
          "execution_count": 15
        }
      ]
    },
    {
      "cell_type": "markdown",
      "source": [
        "## Matrix of zeros\n",
        "\n",
        "In many algorithms, we might have to initialize a matrix with zeros. For example, consider a $2 \\times 4$ matrix:\n",
        "\n",
        "$$\n",
        "\\mathbf{M} = \\begin{bmatrix}\n",
        "0 & 0 & 0 & 0\\\\\n",
        "0 & 0 & 0 & 0\n",
        "\\end{bmatrix}\n",
        "$$\n",
        "\n",
        "In `NumPy`:"
      ],
      "metadata": {
        "id": "KShBdBZcQpTN"
      }
    },
    {
      "cell_type": "code",
      "source": [
        "M = np.zeros((2, 4))\n",
        "M"
      ],
      "metadata": {
        "id": "x38VjAKRRAFk",
        "colab": {
          "base_uri": "https://localhost:8080/"
        },
        "outputId": "b62e1311-c1ef-4920-d6ad-e27d2a1a0e6b"
      },
      "execution_count": 16,
      "outputs": [
        {
          "output_type": "execute_result",
          "data": {
            "text/plain": [
              "array([[0., 0., 0., 0.],\n",
              "       [0., 0., 0., 0.]])"
            ]
          },
          "metadata": {},
          "execution_count": 16
        }
      ]
    },
    {
      "cell_type": "markdown",
      "source": [
        "## Matrix of ones\n",
        "\n",
        "Similar to a matrix of zeros, we can come up with a matrix of ones.\n",
        "\n",
        "$$\n",
        "\\mathbf{M} = \\begin{bmatrix}\n",
        "1 & 1\\\\\n",
        "1 & 1\\\\\n",
        "1 & 1\n",
        "\\end{bmatrix}\n",
        "$$\n",
        "\n",
        "In `NumPy`:"
      ],
      "metadata": {
        "id": "hEg3EbveRWyc"
      }
    },
    {
      "cell_type": "code",
      "source": [
        "M = np.ones((3, 2))\n",
        "M"
      ],
      "metadata": {
        "id": "kdApYPy7RlUd",
        "colab": {
          "base_uri": "https://localhost:8080/"
        },
        "outputId": "958f5743-16f6-4337-fbba-14c180afc88d"
      },
      "execution_count": 17,
      "outputs": [
        {
          "output_type": "execute_result",
          "data": {
            "text/plain": [
              "array([[1., 1.],\n",
              "       [1., 1.],\n",
              "       [1., 1.]])"
            ]
          },
          "metadata": {},
          "execution_count": 17
        }
      ]
    },
    {
      "cell_type": "markdown",
      "source": [
        "## Identity matrix\n",
        "\n",
        "Often, we might have to deal with identity matrices. A $3 \\times 3$ identity matrix is as follows:\n",
        "\n",
        "$$\n",
        "\\mathbf{I} = \\begin{bmatrix}\n",
        "1 & 0 & 0\\\\\n",
        "0 & 1 & 0\\\\\n",
        "0 & 0 & 1\n",
        "\\end{bmatrix}\n",
        "$$\n",
        "\n",
        "In `NumPy`:"
      ],
      "metadata": {
        "id": "hhHfmOEiSknK"
      }
    },
    {
      "cell_type": "code",
      "source": [
        "np.eye(3)"
      ],
      "metadata": {
        "id": "sTLClyKSS8s-",
        "colab": {
          "base_uri": "https://localhost:8080/"
        },
        "outputId": "61e1574d-efc0-4a35-ac81-811feb69fabe"
      },
      "execution_count": 18,
      "outputs": [
        {
          "output_type": "execute_result",
          "data": {
            "text/plain": [
              "array([[1., 0., 0.],\n",
              "       [0., 1., 0.],\n",
              "       [0., 0., 1.]])"
            ]
          },
          "metadata": {},
          "execution_count": 18
        }
      ]
    },
    {
      "cell_type": "markdown",
      "source": [
        "## Diagonal matrices\n",
        "\n",
        "Another special kind of matrix. Let us create the following matrix:\n",
        "\n",
        "$$\n",
        "\\mathbf{D} = \\begin{bmatrix}\n",
        "1 & 0 & 0 & 0\\\\\n",
        "0 & 2 & 0 & 0\\\\\n",
        "0 & 0 & 3 & 0\\\\\n",
        "0 & 0 & 0 & 4\n",
        "\\end{bmatrix}\n",
        "$$\n",
        "\n",
        "In `NumPy`:"
      ],
      "metadata": {
        "id": "gsSwBuSExQX1"
      }
    },
    {
      "cell_type": "code",
      "source": [
        "np.diag([1, 2, 3, 4])"
      ],
      "metadata": {
        "id": "fLZ8y1ODxgq6",
        "colab": {
          "base_uri": "https://localhost:8080/"
        },
        "outputId": "fa78bbcf-437a-4909-b142-1175312daf30"
      },
      "execution_count": 19,
      "outputs": [
        {
          "output_type": "execute_result",
          "data": {
            "text/plain": [
              "array([[1, 0, 0, 0],\n",
              "       [0, 2, 0, 0],\n",
              "       [0, 0, 3, 0],\n",
              "       [0, 0, 0, 4]])"
            ]
          },
          "metadata": {},
          "execution_count": 19
        }
      ]
    },
    {
      "cell_type": "markdown",
      "source": [
        "## Indexing and Slicing\n",
        "\n",
        "Just like lists in Python, `NumPy` arrays can be indexed and sliced. Slicing is useful if we want to work with a portion of an array. We will look at some examples."
      ],
      "metadata": {
        "id": "LYEO0xG8Tmdo"
      }
    },
    {
      "cell_type": "markdown",
      "source": [
        "### Example-1: Row-slice\n",
        "\n",
        "We will extract the third row of the matrix $\\mathbf{M}$:\n",
        "\n",
        "$$\n",
        "\\mathbf{M} = \\begin{bmatrix}\n",
        "1 & 2\\\\\n",
        "3 & 4\\\\\n",
        "5 & 6\\\\\n",
        "7 & 8\\\\\n",
        "9 & 10\n",
        "\\end{bmatrix}\n",
        "$$\n",
        "\n",
        "\n",
        "\n",
        "In `NumPy`:"
      ],
      "metadata": {
        "id": "jjVMaWjETs1R"
      }
    },
    {
      "cell_type": "code",
      "source": [
        "M = np.array([[1, 2], [3, 4], [5, 6], [7, 8], [9, 10]])\n",
        "M[2, :]"
      ],
      "metadata": {
        "id": "J1rnADwuTtXz",
        "colab": {
          "base_uri": "https://localhost:8080/"
        },
        "outputId": "8a4efbcb-55cd-4018-f032-0d1f230926fc"
      },
      "execution_count": 20,
      "outputs": [
        {
          "output_type": "execute_result",
          "data": {
            "text/plain": [
              "array([5, 6])"
            ]
          },
          "metadata": {},
          "execution_count": 20
        }
      ]
    },
    {
      "cell_type": "markdown",
      "source": [
        "### Example-2: Column slice\n",
        "\n",
        "Let us now extract the second column of the following matrix:\n",
        "\n",
        "$$\n",
        "\\mathbf{M} = \\begin{bmatrix}\n",
        "1 & 2 & 3\\\\\n",
        "4 & 5 & 6\\\\\n",
        "7 & 8 & 9\n",
        "\\end{bmatrix}\n",
        "$$\n",
        "\n",
        "In `NumPy`:"
      ],
      "metadata": {
        "id": "Sg0PsBYSTtsy"
      }
    },
    {
      "cell_type": "code",
      "source": [
        "M = np.array([[1, 2, 3], [4, 5, 6], [7, 8, 9]])\n",
        "M[:, 1]"
      ],
      "metadata": {
        "id": "6VC5H1v4Tvp9",
        "colab": {
          "base_uri": "https://localhost:8080/"
        },
        "outputId": "b58f42b8-329d-44b6-b626-bf3d3d9ed404"
      },
      "execution_count": 21,
      "outputs": [
        {
          "output_type": "execute_result",
          "data": {
            "text/plain": [
              "array([2, 5, 8])"
            ]
          },
          "metadata": {},
          "execution_count": 21
        }
      ]
    },
    {
      "cell_type": "markdown",
      "source": [
        "### Example-3: Submatrix slice\n",
        "\n",
        "Now, we want to extract the $2 \\times 2$ submatrix colored in blue from $M$:\n",
        "\n",
        "$$\n",
        "\\mathbf{M} = \\begin{bmatrix}\n",
        "1 & 2 & 3 & 4\\\\\n",
        "5 & 6 & \\color{blue}7 & \\color{blue}8\\\\\n",
        "9 & 10 & \\color{blue}{11} & \\color{blue}{12}\\\\\n",
        "13 & 14 & 15 & 16\n",
        "\\end{bmatrix}\n",
        "$$\n",
        "\n",
        "In `NumPy`:"
      ],
      "metadata": {
        "id": "STtPO2rjTvzq"
      }
    },
    {
      "cell_type": "code",
      "source": [
        "M = np.arange(1, 17).reshape(4, 4)\n",
        "M[1 : 3, 2 :]"
      ],
      "metadata": {
        "id": "18Ktzj0nTyOx",
        "colab": {
          "base_uri": "https://localhost:8080/"
        },
        "outputId": "78ffba3f-6779-41b4-f162-1c3b23a91a0d"
      },
      "execution_count": 22,
      "outputs": [
        {
          "output_type": "execute_result",
          "data": {
            "text/plain": [
              "array([[ 7,  8],\n",
              "       [11, 12]])"
            ]
          },
          "metadata": {},
          "execution_count": 22
        }
      ]
    },
    {
      "cell_type": "markdown",
      "source": [
        "## Matrix algebra\n",
        "\n",
        "There are several important matrix operations that we will list down here. The `np.linalg` module helps us perform these operations effortlessly."
      ],
      "metadata": {
        "id": "USo33Hw9nSPP"
      }
    },
    {
      "cell_type": "markdown",
      "source": [
        "## Rank, Inverse\n",
        "\n",
        "We can get the rank of a matrix and its inverse as follows:"
      ],
      "metadata": {
        "id": "F0OVX6CtiF70"
      }
    },
    {
      "cell_type": "code",
      "source": [
        "M = np.arange(1, 17).reshape(4, 4)\n",
        "np.linalg.matrix_rank(M)\n",
        "# np.linalg.inv(M)"
      ],
      "metadata": {
        "id": "DTskqJVZiMuP",
        "colab": {
          "base_uri": "https://localhost:8080/"
        },
        "outputId": "1d9a280a-686a-4c17-a650-cf3f0ba5d2bc"
      },
      "execution_count": 23,
      "outputs": [
        {
          "output_type": "execute_result",
          "data": {
            "text/plain": [
              "2"
            ]
          },
          "metadata": {},
          "execution_count": 23
        }
      ]
    },
    {
      "cell_type": "markdown",
      "source": [
        "### Pseuodoinverse\n",
        "\n",
        "The pseudoinverse $\\mathbf{M}^{\\dagger}$ of a matrix $\\mathbf{M}$ with real entries satisfies the following properties:\n",
        "\n",
        "- $\\mathbf{M} \\mathbf{M}^{\\dagger} \\mathbf{M} = \\mathbf{M}$\n",
        "- $\\mathbf{M}^{\\dagger} \\mathbf{M} \\mathbf{M} = \\mathbf{M}^{\\dagger}$\n",
        "- $\\mathbf{M} \\mathbf{M}^{\\dagger}$ is symmetric\n",
        "- $\\mathbf{M}^{\\dagger} \\mathbf{M}$ is symmetric\n",
        "\n",
        "Let us go ahead and verify this for the following matrix:\n",
        "\n",
        "$$\n",
        "\\mathbf{M} = \\begin{bmatrix}\n",
        "1 & 2 & 3\\\\\n",
        "3 & 6 & 9\n",
        "\\end{bmatrix}\n",
        "$$\n",
        "\n",
        "Note: For a complete list of properties of the pseudoinverse, check out this [link](https://en.wikipedia.org/wiki/Moore%E2%80%93Penrose_inverse#Definition)."
      ],
      "metadata": {
        "id": "P77YDapdn1eW"
      }
    },
    {
      "cell_type": "code",
      "source": [
        "np.linalg.pinv(M)"
      ],
      "metadata": {
        "id": "vHcx2d9HnWf6",
        "colab": {
          "base_uri": "https://localhost:8080/"
        },
        "outputId": "340db9cc-388c-494b-9776-a4998d2ee008"
      },
      "execution_count": 24,
      "outputs": [
        {
          "output_type": "execute_result",
          "data": {
            "text/plain": [
              "array([[-0.285 , -0.145 , -0.005 ,  0.135 ],\n",
              "       [-0.1075, -0.0525,  0.0025,  0.0575],\n",
              "       [ 0.07  ,  0.04  ,  0.01  , -0.02  ],\n",
              "       [ 0.2475,  0.1325,  0.0175, -0.0975]])"
            ]
          },
          "metadata": {},
          "execution_count": 24
        }
      ]
    },
    {
      "cell_type": "markdown",
      "source": [
        "## Eigenvalues and Eigenvectors\n",
        "\n",
        "Given a matrix $\\mathbf{M}$ let us find its eigenvalues and eigenvectors:\n",
        "\n",
        "$$\n",
        "\\mathbf{M} = \\begin{bmatrix}\n",
        "1 & 0 & -3\\\\\n",
        "0 & 5 & 2\\\\\n",
        "-3 & 2 & 8\n",
        "\\end{bmatrix}\n",
        "$$"
      ],
      "metadata": {
        "id": "6v1KRPi3sqqk"
      }
    },
    {
      "cell_type": "code",
      "source": [
        "M = np.array([[1, 0, -3], [0, 5, 2], [-3, 2, 8]])\n",
        "eigval, eigvec = np.linalg.eigh(M)\n",
        "print(eigval)\n",
        "print(eigvec)"
      ],
      "metadata": {
        "id": "LkH6ayZ7s6dZ",
        "colab": {
          "base_uri": "https://localhost:8080/"
        },
        "outputId": "7ca2461c-8d11-4d66-ef78-8790d28728c7"
      },
      "execution_count": 25,
      "outputs": [
        {
          "output_type": "stream",
          "name": "stdout",
          "text": [
            "[-0.20942046  4.36588492  9.84353554]\n",
            "[[ 0.91805853  0.26010485 -0.2991889 ]\n",
            " [-0.14209114  0.92042494  0.36418131]\n",
            " [ 0.37010626 -0.29182767  0.88196257]]\n"
          ]
        }
      ]
    },
    {
      "cell_type": "markdown",
      "source": [
        "## SVD\n",
        "\n",
        "We can compute the singular value decomposition of a matrix $\\mathbf{M}$ as:\n",
        "\n",
        "$$\n",
        "\\mathbf{M} = \\mathbf{U} \\boldsymbol{\\Sigma} \\mathbf{V}^T\n",
        "$$\n",
        "\n",
        "Here, the symbols have their usual meanings."
      ],
      "metadata": {
        "id": "Rq2jpFjIhIsI"
      }
    },
    {
      "cell_type": "code",
      "source": [
        "np.linalg.svd?"
      ],
      "metadata": {
        "id": "2To7RkE_qFK2"
      },
      "execution_count": 26,
      "outputs": []
    },
    {
      "cell_type": "code",
      "source": [
        "np.linalg.svd(M)"
      ],
      "metadata": {
        "id": "ieo70cvZhZhc",
        "colab": {
          "base_uri": "https://localhost:8080/"
        },
        "outputId": "a0fb452d-7003-4967-df00-348dd9e145dd"
      },
      "execution_count": 27,
      "outputs": [
        {
          "output_type": "execute_result",
          "data": {
            "text/plain": [
              "(array([[-0.2991889 , -0.26010485,  0.91805853],\n",
              "        [ 0.36418131, -0.92042494, -0.14209114],\n",
              "        [ 0.88196257,  0.29182767,  0.37010626]]),\n",
              " array([9.84353554, 4.36588492, 0.20942046]),\n",
              " array([[-0.2991889 ,  0.36418131,  0.88196257],\n",
              "        [-0.26010485, -0.92042494,  0.29182767],\n",
              "        [-0.91805853,  0.14209114, -0.37010626]]))"
            ]
          },
          "metadata": {},
          "execution_count": 27
        }
      ]
    }
  ]
}