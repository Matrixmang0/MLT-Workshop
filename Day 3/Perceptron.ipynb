{
  "nbformat": 4,
  "nbformat_minor": 0,
  "metadata": {
    "colab": {
      "provenance": []
    },
    "kernelspec": {
      "name": "python3",
      "display_name": "Python 3"
    },
    "language_info": {
      "name": "python"
    }
  },
  "cells": [
    {
      "cell_type": "code",
      "execution_count": 1,
      "metadata": {
        "id": "oQGFFPgx99HH"
      },
      "outputs": [],
      "source": [
        "import numpy as np"
      ]
    },
    {
      "cell_type": "markdown",
      "source": [
        "## Dataset"
      ],
      "metadata": {
        "id": "rPJp65A2EXkf"
      }
    },
    {
      "cell_type": "code",
      "source": [
        "from sklearn.datasets import make_classification\n",
        "X, y = make_classification(n_samples=50, n_features=2, n_redundant=0, n_clusters_per_class=1, flip_y=0, class_sep=3, random_state=20)"
      ],
      "metadata": {
        "id": "Xa2fZi8wEaLr"
      },
      "execution_count": 2,
      "outputs": []
    },
    {
      "cell_type": "markdown",
      "source": [
        "### Number of samples in the dataset"
      ],
      "metadata": {
        "id": "d2QoMTEAHGyd"
      }
    },
    {
      "cell_type": "code",
      "source": [
        "X.shape[0]"
      ],
      "metadata": {
        "colab": {
          "base_uri": "https://localhost:8080/"
        },
        "id": "_WEnAvdAHLOG",
        "outputId": "f7af5532-2ec8-4fcc-bc7b-28901302d1ba"
      },
      "execution_count": 3,
      "outputs": [
        {
          "output_type": "execute_result",
          "data": {
            "text/plain": [
              "50"
            ]
          },
          "metadata": {},
          "execution_count": 3
        }
      ]
    },
    {
      "cell_type": "markdown",
      "source": [
        "### Number of features in the dataset"
      ],
      "metadata": {
        "id": "MRBFM70rHQuC"
      }
    },
    {
      "cell_type": "code",
      "source": [
        "X.shape[1]"
      ],
      "metadata": {
        "colab": {
          "base_uri": "https://localhost:8080/"
        },
        "id": "kwZFynNVHOSr",
        "outputId": "cd43a57d-228d-4566-ce00-b7f2116d2057"
      },
      "execution_count": 4,
      "outputs": [
        {
          "output_type": "execute_result",
          "data": {
            "text/plain": [
              "2"
            ]
          },
          "metadata": {},
          "execution_count": 4
        }
      ]
    },
    {
      "cell_type": "code",
      "source": [
        "y"
      ],
      "metadata": {
        "colab": {
          "base_uri": "https://localhost:8080/"
        },
        "id": "zCeA_sKuHe1F",
        "outputId": "2f76f3b4-7e93-4665-8b55-8ae76728a0ea"
      },
      "execution_count": 5,
      "outputs": [
        {
          "output_type": "execute_result",
          "data": {
            "text/plain": [
              "array([1, 1, 1, 1, 1, 1, 1, 0, 0, 1, 0, 0, 0, 1, 0, 0, 1, 1, 0, 1, 0, 1,\n",
              "       0, 0, 1, 0, 1, 0, 1, 1, 0, 1, 0, 1, 0, 1, 1, 0, 0, 0, 0, 1, 1, 0,\n",
              "       0, 0, 0, 1, 1, 0])"
            ]
          },
          "metadata": {},
          "execution_count": 5
        }
      ]
    },
    {
      "cell_type": "markdown",
      "source": [
        "### Replacing all the 0 entries in the target vector to -1"
      ],
      "metadata": {
        "id": "2WYY8FiMHXXl"
      }
    },
    {
      "cell_type": "code",
      "source": [
        "y[ y == 0 ]  = -1"
      ],
      "metadata": {
        "id": "FxNpESabHowF"
      },
      "execution_count": 6,
      "outputs": []
    },
    {
      "cell_type": "code",
      "source": [
        "y"
      ],
      "metadata": {
        "colab": {
          "base_uri": "https://localhost:8080/"
        },
        "id": "owONDxMJHyaJ",
        "outputId": "c0cccd79-aead-4e02-d941-419c18898ebe"
      },
      "execution_count": 7,
      "outputs": [
        {
          "output_type": "execute_result",
          "data": {
            "text/plain": [
              "array([ 1,  1,  1,  1,  1,  1,  1, -1, -1,  1, -1, -1, -1,  1, -1, -1,  1,\n",
              "        1, -1,  1, -1,  1, -1, -1,  1, -1,  1, -1,  1,  1, -1,  1, -1,  1,\n",
              "       -1,  1,  1, -1, -1, -1, -1,  1,  1, -1, -1, -1, -1,  1,  1, -1])"
            ]
          },
          "metadata": {},
          "execution_count": 7
        }
      ]
    },
    {
      "cell_type": "markdown",
      "source": [
        "### Number of unique classes in the target vector"
      ],
      "metadata": {
        "id": "C8FsOh9VHz3x"
      }
    },
    {
      "cell_type": "code",
      "source": [
        "np.unique(y)"
      ],
      "metadata": {
        "colab": {
          "base_uri": "https://localhost:8080/"
        },
        "id": "kcLuUhtLH6gX",
        "outputId": "6ec21084-ccb4-4307-b968-f07c287c4634"
      },
      "execution_count": 8,
      "outputs": [
        {
          "output_type": "execute_result",
          "data": {
            "text/plain": [
              "array([-1,  1])"
            ]
          },
          "metadata": {},
          "execution_count": 8
        }
      ]
    },
    {
      "cell_type": "markdown",
      "source": [
        "### Plot the data keeping first feature on the x-axis and the second feature on the y-axis. Plot the data points belonging to each class in different colors. Does the data seem linearly separable?"
      ],
      "metadata": {
        "id": "mjX4TjlgIIk_"
      }
    },
    {
      "cell_type": "code",
      "source": [
        "import matplotlib.pyplot as plt\n",
        "plt.scatter(X[:, 0], X[:, 1], c = y);"
      ],
      "metadata": {
        "colab": {
          "base_uri": "https://localhost:8080/",
          "height": 430
        },
        "id": "NNmhj1AiILMu",
        "outputId": "ec484ebe-c39b-47c1-d1ea-abda11600c10"
      },
      "execution_count": 9,
      "outputs": [
        {
          "output_type": "display_data",
          "data": {
            "text/plain": [
              "<Figure size 640x480 with 1 Axes>"
            ],
            "image/png": "[encoded data removed]"
          },
          "metadata": {}
        }
      ]
    },
    {
      "cell_type": "markdown",
      "source": [
        "### Initialize w to be a zero vector, with shape equal to the number of features in the data."
      ],
      "metadata": {
        "id": "Ib0fS63jIkAK"
      }
    },
    {
      "cell_type": "code",
      "source": [
        "w = np.zeros(X.shape[1])\n",
        "w"
      ],
      "metadata": {
        "colab": {
          "base_uri": "https://localhost:8080/"
        },
        "id": "r5vH0TleIlzd",
        "outputId": "da5ed11e-bc0f-46d3-9f45-caf8e678ddb3"
      },
      "execution_count": 10,
      "outputs": [
        {
          "output_type": "execute_result",
          "data": {
            "text/plain": [
              "array([0., 0.])"
            ]
          },
          "metadata": {},
          "execution_count": 10
        }
      ]
    },
    {
      "cell_type": "markdown",
      "source": [
        "Iterate over each data point in $X$ one by one (in the same sequence as present in $X$). For each data point, compute the value of $w^Tx$. If\n",
        "$w^T\\ge0$, predict positive class for a, else predict the negative class."
      ],
      "metadata": {
        "id": "sKiXIJ8AI_16"
      }
    },
    {
      "cell_type": "code",
      "source": [
        "w = np.zeros(X.shape[1])\n",
        "total_mistakes = 0\n",
        "\n",
        "for i in range(len(X)):\n",
        "  y_pred = 1 if w.T@X[i] >= 0 else -1\n",
        "\n",
        "  if y_pred != y[i]:\n",
        "    w = w + X[i]*y[i]\n",
        "    total_mistakes += 1\n",
        "\n",
        "print(total_mistakes)"
      ],
      "metadata": {
        "colab": {
          "base_uri": "https://localhost:8080/"
        },
        "id": "s5phGZW2J-Px",
        "outputId": "c6a85916-8e1c-4ac3-fc74-b366b1e0201f"
      },
      "execution_count": 11,
      "outputs": [
        {
          "output_type": "stream",
          "name": "stdout",
          "text": [
            "2\n"
          ]
        }
      ]
    },
    {
      "cell_type": "markdown",
      "source": [
        "### So far, we have run only one iteration over the entire data. Run the same for 10 epochs (iterations), but stop if there are no weight updates in an epoch."
      ],
      "metadata": {
        "id": "PbWrYZviMYft"
      }
    },
    {
      "cell_type": "code",
      "source": [
        "w = np.zeros(X.shape[1])\n",
        "total_mistakes = 0\n",
        "epochs = 10\n",
        "weight_updates_per_epoch = {}\n",
        "\n",
        "for epoch in range(epochs):\n",
        "  weight_updates_per_epoch[epoch] = 0\n",
        "  for i in range(len(X)):\n",
        "    y_pred = 1 if w.T@X[i] >= 0 else -1\n",
        "\n",
        "    if y_pred != y[i]:\n",
        "      w = w + X[i]*y[i]\n",
        "      weight_updates_per_epoch[epoch] += 1\n",
        "      total_mistakes += 1\n",
        "  if weight_updates_per_epoch[epoch] == 0:\n",
        "    break\n",
        "\n",
        "print(weight_updates_per_epoch)\n",
        "print(total_mistakes)\n",
        "print(w)"
      ],
      "metadata": {
        "colab": {
          "base_uri": "https://localhost:8080/"
        },
        "id": "_2HZZlOYMdKj",
        "outputId": "133c2555-5c7e-47f1-9fc7-94d672ac7b77"
      },
      "execution_count": 12,
      "outputs": [
        {
          "output_type": "stream",
          "name": "stdout",
          "text": [
            "{0: 2, 1: 0}\n",
            "2\n",
            "[ 6.08372134 -0.97979197]\n"
          ]
        }
      ]
    },
    {
      "cell_type": "markdown",
      "source": [
        "### Plot the vector w and draw the decision boundary thus obtained"
      ],
      "metadata": {
        "id": "3QnXV-pFOrX0"
      }
    },
    {
      "cell_type": "code",
      "source": [
        "plt.scatter(X[:, 0], X[:, 1], c = y, s = 15)\n",
        "plt.quiver(0, 0, w[0], w[1], scale=20, color = 'red')\n",
        "plt.quiver(0, 0, -w[1], w[0], scale=15, headaxislength=0, headlength=0)\n",
        "plt.quiver(0, 0, w[1], -w[0], scale=10, headaxislength=0, headlength=0)\n",
        "plt.ylim(-5, 2);"
      ],
      "metadata": {
        "colab": {
          "base_uri": "https://localhost:8080/",
          "height": 435
        },
        "id": "FbevRf_MOyIk",
        "outputId": "987a3676-89cb-494f-fde2-f8ce8a3b5137"
      },
      "execution_count": 13,
      "outputs": [
        {
          "output_type": "display_data",
          "data": {
            "text/plain": [
              "<Figure size 640x480 with 1 Axes>"
            ],
            "image/png": "[encoded data removed]"
          },
          "metadata": {}
        }
      ]
    },
    {
      "cell_type": "markdown",
      "source": [
        "### The value of loss function obtained using the weight vector"
      ],
      "metadata": {
        "id": "jJqZ8JS6RHu4"
      }
    },
    {
      "cell_type": "code",
      "source": [
        "loss = 0\n",
        "for i in range(len(X)):\n",
        "  y_pred = 1 if w.T@X[i] >= 0 else -1\n",
        "  if y_pred!=y[i]:\n",
        "    loss += 1\n",
        "\n",
        "loss"
      ],
      "metadata": {
        "colab": {
          "base_uri": "https://localhost:8080/"
        },
        "id": "3Qk6cpAURMKx",
        "outputId": "e121f622-07e1-4ee8-ef24-72d7f1b53e35"
      },
      "execution_count": 14,
      "outputs": [
        {
          "output_type": "execute_result",
          "data": {
            "text/plain": [
              "0"
            ]
          },
          "metadata": {},
          "execution_count": 14
        }
      ]
    }
  ]
}