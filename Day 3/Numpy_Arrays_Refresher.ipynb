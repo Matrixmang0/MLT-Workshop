{
  "nbformat": 4,
  "nbformat_minor": 0,
  "metadata": {
    "colab": {
      "provenance": []
    },
    "kernelspec": {
      "name": "python3",
      "display_name": "Python 3"
    },
    "language_info": {
      "name": "python"
    }
  },
  "cells": [
    {
      "cell_type": "code",
      "source": [
        "import numpy as np"
      ],
      "metadata": {
        "id": "aIyhrkTCAlFr"
      },
      "execution_count": 2,
      "outputs": []
    },
    {
      "cell_type": "markdown",
      "source": [
        "## Random Sampling with numpy.random.choice\n",
        "\n",
        "The `np.random.choice` function in NumPy is used for random sampling from an array-like object or integer.\n",
        "\n",
        "- `a`: The first argument can be either a 1-D array-like object, from which random samples are generated, or an integer. If it's an integer, the function behaves as if it's generating random samples from the range [0, a).\n",
        "\n",
        "- `size` (optional): This argument specifies the size of the random sample to be generated. By default, if it's not provided (None), a single random value is returned. If provided, it determines the shape of the output, e.g., the number of samples to generate.\n",
        "\n",
        "This function is commonly used for tasks such as random selection, permutation, or bootstrapping in data analysis and machine learning."
      ],
      "metadata": {
        "id": "IMdmospqApwV"
      }
    },
    {
      "cell_type": "code",
      "source": [
        "np.random.choice(5)"
      ],
      "metadata": {
        "colab": {
          "base_uri": "https://localhost:8080/"
        },
        "id": "Bh4Tl6n_Az4n",
        "outputId": "f3bb0111-1e86-4f7a-8abd-9e1d3d5299ba"
      },
      "execution_count": 6,
      "outputs": [
        {
          "output_type": "execute_result",
          "data": {
            "text/plain": [
              "2"
            ]
          },
          "metadata": {},
          "execution_count": 6
        }
      ]
    },
    {
      "cell_type": "code",
      "source": [
        "np.random.choice(5, 10)"
      ],
      "metadata": {
        "colab": {
          "base_uri": "https://localhost:8080/"
        },
        "id": "FljyinvyAq-E",
        "outputId": "9c8fa659-59d1-491a-9817-2513ae7b6b7e"
      },
      "execution_count": 3,
      "outputs": [
        {
          "output_type": "execute_result",
          "data": {
            "text/plain": [
              "array([1, 3, 2, 1, 0, 0, 3, 3, 0, 2])"
            ]
          },
          "metadata": {},
          "execution_count": 3
        }
      ]
    },
    {
      "cell_type": "code",
      "source": [
        "np.random.choice([2, 4, 7, 9, 10, 89])"
      ],
      "metadata": {
        "colab": {
          "base_uri": "https://localhost:8080/"
        },
        "id": "6lvBATwQBQ5_",
        "outputId": "49ab6e61-4949-4251-db4b-ae4b513fb35a"
      },
      "execution_count": 7,
      "outputs": [
        {
          "output_type": "execute_result",
          "data": {
            "text/plain": [
              "9"
            ]
          },
          "metadata": {},
          "execution_count": 7
        }
      ]
    },
    {
      "cell_type": "code",
      "source": [
        "np.random.choice([2, 4, 7, 9, 10, 89], 3)"
      ],
      "metadata": {
        "colab": {
          "base_uri": "https://localhost:8080/"
        },
        "id": "ILuHaV3bBXC-",
        "outputId": "5696a2a1-6f1b-4dfc-98a0-3d343464cabf"
      },
      "execution_count": 9,
      "outputs": [
        {
          "output_type": "execute_result",
          "data": {
            "text/plain": [
              "array([10, 89, 89])"
            ]
          },
          "metadata": {},
          "execution_count": 9
        }
      ]
    },
    {
      "cell_type": "markdown",
      "source": [
        "## Setting Random Seed with np.random.seed()\n",
        "\n",
        "In the context of random number generation, computers do not generate truly random numbers but use a deterministic algorithm that starts from an initial value known as a \"seed.\" This process generates pseudorandom numbers.\n",
        "\n",
        "The `np.random.seed()` function is used to set the seed for random number generation. By setting a seed, you make the random number generation predictable and reproducible. When the same seed is used, the sequence of random numbers generated will be the same.\n",
        "\n",
        "This is valuable in scenarios where reproducibility is important, such as when running experiments, testing models, or debugging code. Setting a specific seed ensures that random operations are consistent across different runs.\n",
        "\n",
        "It's important to note that changing the seed value will lead to a different sequence of random numbers, but using the same seed will result in the same sequence."
      ],
      "metadata": {
        "id": "BT_2rqJRBsAL"
      }
    },
    {
      "cell_type": "code",
      "source": [
        "for _ in range(5):\n",
        "  print(np.random.choice(10))"
      ],
      "metadata": {
        "colab": {
          "base_uri": "https://localhost:8080/"
        },
        "id": "s1eUQZgxBrb9",
        "outputId": "9a31d8b0-740c-40a2-f690-b51d26ded767"
      },
      "execution_count": 12,
      "outputs": [
        {
          "output_type": "stream",
          "name": "stdout",
          "text": [
            "3\n",
            "7\n",
            "9\n",
            "0\n",
            "1\n"
          ]
        }
      ]
    },
    {
      "cell_type": "code",
      "source": [
        "for _ in range(5):\n",
        "  np.random.seed(0)\n",
        "  print(np.random.choice(10))"
      ],
      "metadata": {
        "colab": {
          "base_uri": "https://localhost:8080/"
        },
        "id": "eA33gCvDCRqA",
        "outputId": "ad83f553-505b-4e3c-9711-9d6fee88159c"
      },
      "execution_count": 18,
      "outputs": [
        {
          "output_type": "stream",
          "name": "stdout",
          "text": [
            "5\n",
            "5\n",
            "5\n",
            "5\n",
            "5\n"
          ]
        }
      ]
    },
    {
      "cell_type": "markdown",
      "source": [
        "## Generating Samples from the Standard Normal Distribution with np.random.randn()\n",
        "\n",
        "The `np.random.randn()` function in NumPy is used to generate random samples from the \"standard normal\" distribution, which is also known as the standard Gaussian distribution.\n",
        "\n",
        "- Syntax: `np.random.randn(d0, d1, ..., dn)`\n",
        "  - `d0, d1, ..., dn`: The dimensions of the output. These are optional parameters and can be specified to determine the shape of the random sample. If not provided, a single random value is returned.\n",
        "\n",
        "The standard normal distribution has a mean of 0 and a standard deviation of 1. Random samples generated using this function follow a bell-shaped curve, with most values clustered around 0 and tails extending to positive and negative infinity.\n",
        "\n",
        "This function is frequently used in statistical analysis, simulations, and various applications in data science and machine learning."
      ],
      "metadata": {
        "id": "Pmny-LDtDc22"
      }
    },
    {
      "cell_type": "code",
      "source": [
        "np.random.randn()"
      ],
      "metadata": {
        "colab": {
          "base_uri": "https://localhost:8080/"
        },
        "id": "flJ-K3ikDjfq",
        "outputId": "6aebbeef-71f6-4ba3-e493-45a47f0a7e9e"
      },
      "execution_count": 20,
      "outputs": [
        {
          "output_type": "execute_result",
          "data": {
            "text/plain": [
              "1.040530750923964"
            ]
          },
          "metadata": {},
          "execution_count": 20
        }
      ]
    },
    {
      "cell_type": "code",
      "source": [
        "np.random.randn(5)"
      ],
      "metadata": {
        "colab": {
          "base_uri": "https://localhost:8080/"
        },
        "id": "D7RLdzl2Dp2u",
        "outputId": "761e4a76-015c-4a67-bf04-494aac19bffd"
      },
      "execution_count": 21,
      "outputs": [
        {
          "output_type": "execute_result",
          "data": {
            "text/plain": [
              "array([-1.51698273, -0.86627621, -0.05503512, -0.10731045,  1.36546718])"
            ]
          },
          "metadata": {},
          "execution_count": 21
        }
      ]
    },
    {
      "cell_type": "code",
      "source": [
        "np.random.randn(2, 3)"
      ],
      "metadata": {
        "colab": {
          "base_uri": "https://localhost:8080/"
        },
        "id": "O0Tu8HaoDsTe",
        "outputId": "34afe5c1-fb6b-4544-d45e-17f875a9d1d1"
      },
      "execution_count": 22,
      "outputs": [
        {
          "output_type": "execute_result",
          "data": {
            "text/plain": [
              "array([[-0.09769572, -2.42595457, -0.4530558 ],\n",
              "       [-0.470771  ,  0.973016  , -1.27814912]])"
            ]
          },
          "metadata": {},
          "execution_count": 22
        }
      ]
    },
    {
      "cell_type": "markdown",
      "source": [
        "## Generating Random Integers with np.random.randint()\n",
        "\n",
        "The `np.random.randint()` function in NumPy is used to generate random integers within a specified range.\n",
        "\n",
        "- Syntax: `np.random.randint(low, high, size)`\n",
        "  - `low`: The lower bound of the range (inclusive). The generated random integers can be equal to this value.\n",
        "  - `high`: The upper bound of the range (exclusive). The generated random integers will be less than this value.\n",
        "  - `size` (optional): The size of the output. This determines the number of random integers to generate. It can be a single integer or a tuple specifying the shape of the output.\n",
        "\n",
        "This function is commonly used for tasks such as random selection, shuffling, and generating random indices for sampling or permutation. It provides a convenient way to create random integers within a specified range."
      ],
      "metadata": {
        "id": "uLgFAJ6KDwwV"
      }
    },
    {
      "cell_type": "code",
      "source": [
        "np.random.randint(4, 9, 3)"
      ],
      "metadata": {
        "colab": {
          "base_uri": "https://localhost:8080/"
        },
        "id": "798yAkWLEHyl",
        "outputId": "fc4e1175-44d8-46f2-b41a-71b09c5a6ba6"
      },
      "execution_count": 23,
      "outputs": [
        {
          "output_type": "execute_result",
          "data": {
            "text/plain": [
              "array([4, 6, 7])"
            ]
          },
          "metadata": {},
          "execution_count": 23
        }
      ]
    },
    {
      "cell_type": "code",
      "source": [
        "np.random.randint(4, 10, (2,2))"
      ],
      "metadata": {
        "colab": {
          "base_uri": "https://localhost:8080/"
        },
        "id": "wUaLZwlAEQ_j",
        "outputId": "561a019b-b983-42a7-bb54-26c15649800c"
      },
      "execution_count": 24,
      "outputs": [
        {
          "output_type": "execute_result",
          "data": {
            "text/plain": [
              "array([[4, 5],\n",
              "       [7, 9]])"
            ]
          },
          "metadata": {},
          "execution_count": 24
        }
      ]
    },
    {
      "cell_type": "markdown",
      "source": [
        "## Creating a Range of Values with np.arange()\n",
        "\n",
        "The `numpy.arange()` function in NumPy is used to generate a sequence of values within a specified range.\n",
        "\n",
        "- Syntax: `numpy.arange([start], stop, [step])`\n",
        "  - `start` (optional): The starting value of the sequence. If not provided, the default value is 0.\n",
        "  - `stop`: The end value of the sequence (exclusive).\n",
        "  - `step` (optional): The step size between values in the sequence. If not provided, the default step size is 1.\n",
        "\n",
        "The function generates values from `start` (or 0 if `start` is not provided) up to, but not including, `stop`, incrementing by `step` at each iteration.\n",
        "\n",
        "This function is widely used for creating sequences of numbers, generating indices for iteration, or defining the range of values for various operations in numerical computing.\n",
        "\n",
        "\n",
        "\n"
      ],
      "metadata": {
        "id": "AlfY3-N3EZVn"
      }
    },
    {
      "cell_type": "code",
      "source": [
        "np.arange(0, 10, 2)"
      ],
      "metadata": {
        "colab": {
          "base_uri": "https://localhost:8080/"
        },
        "id": "ZYrzoEqHEtbE",
        "outputId": "bb647954-9ab7-4fdb-ff45-73497a59264b"
      },
      "execution_count": 25,
      "outputs": [
        {
          "output_type": "execute_result",
          "data": {
            "text/plain": [
              "array([0, 2, 4, 6, 8])"
            ]
          },
          "metadata": {},
          "execution_count": 25
        }
      ]
    },
    {
      "cell_type": "code",
      "source": [
        "np.arange(10)"
      ],
      "metadata": {
        "colab": {
          "base_uri": "https://localhost:8080/"
        },
        "id": "0MMxqazfE9V0",
        "outputId": "be50c809-2707-4669-c54a-2a2b84ad10a9"
      },
      "execution_count": 26,
      "outputs": [
        {
          "output_type": "execute_result",
          "data": {
            "text/plain": [
              "array([0, 1, 2, 3, 4, 5, 6, 7, 8, 9])"
            ]
          },
          "metadata": {},
          "execution_count": 26
        }
      ]
    },
    {
      "cell_type": "markdown",
      "source": [
        "## Concatenating Arrays with np.concatenate()\n",
        "\n",
        "The `np.concatenate()` function in NumPy is used to join a sequence of arrays along an existing axis.\n",
        "\n",
        "- Syntax: `np.concatenate((a1, a2, ...), axis=0)`\n",
        "  - `a1, a2, ...`: Sequence of array-like objects that you want to concatenate.\n",
        "  - `axis` (optional): The axis along which the arrays should be concatenated. Default is 0, meaning the first axis.\n",
        "\n",
        "This function is commonly used when you need to combine multiple arrays into a single array, provided that:\n",
        "\n",
        "- All input arrays have the same number of dimensions.\n",
        "- The arrays have the same shape, except in the dimension corresponding to the specified `axis`.\n",
        "\n",
        "The `np.concatenate()` function is flexible and allows for the combination of arrays in various ways, such as vertically (axis=0) or horizontally (axis=1), based on the specified axis.\n"
      ],
      "metadata": {
        "id": "7zo9MO46HNCr"
      }
    },
    {
      "cell_type": "code",
      "source": [
        "a1 = np.array([4, 5, 7])\n",
        "a2 = np.array([8, 1, 3])\n",
        "np.concatenate((a1, a2), axis=0)"
      ],
      "metadata": {
        "colab": {
          "base_uri": "https://localhost:8080/"
        },
        "id": "8UbAmAK0HP-G",
        "outputId": "ae286d7c-2c57-4a11-ea95-95fde4fa59f7"
      },
      "execution_count": 32,
      "outputs": [
        {
          "output_type": "execute_result",
          "data": {
            "text/plain": [
              "array([4, 5, 7, 8, 1, 3])"
            ]
          },
          "metadata": {},
          "execution_count": 32
        }
      ]
    },
    {
      "cell_type": "code",
      "source": [
        "b1 = np.array([[1], [2], [3]])\n",
        "b2 = np.array([[4], [5], [6]])\n",
        "np.concatenate((b1, b2), axis=1)"
      ],
      "metadata": {
        "colab": {
          "base_uri": "https://localhost:8080/"
        },
        "id": "i-Ms8fhbV45P",
        "outputId": "1d994997-897a-4316-d353-f8de88607972"
      },
      "execution_count": 33,
      "outputs": [
        {
          "output_type": "execute_result",
          "data": {
            "text/plain": [
              "array([[1, 4],\n",
              "       [2, 5],\n",
              "       [3, 6]])"
            ]
          },
          "metadata": {},
          "execution_count": 33
        }
      ]
    },
    {
      "cell_type": "markdown",
      "source": [
        "## Calculating Vector Norm with np.linalg.norm()\n",
        "\n",
        "The `np.linalg.norm()` function in NumPy is used to calculate the norm (magnitude) of a vector.\n",
        "\n",
        "- Syntax: `np.linalg.norm(x)`\n",
        "  - `x`: The input vector or array for which you want to calculate the norm.\n",
        "\n",
        "The function returns the norm of the input vector, which represents the length or magnitude of the vector. The norm can be calculated in different ways, including the L2 (Euclidean) norm, which is the default if not specified.\n",
        "\n",
        "Calculating the norm of a vector is commonly used in various mathematical and numerical computations, including linear algebra, machine learning, and signal processing, to measure the size or distance of a vector from the origin (0,0) in a multi-dimensional space.\n"
      ],
      "metadata": {
        "id": "ZP-4bCbTWSjp"
      }
    },
    {
      "cell_type": "markdown",
      "source": [],
      "metadata": {
        "id": "ui3yUIshaVm8"
      }
    },
    {
      "cell_type": "code",
      "source": [
        "np.linalg.norm([1, 1])"
      ],
      "metadata": {
        "colab": {
          "base_uri": "https://localhost:8080/"
        },
        "id": "DPhngvdOZ9OR",
        "outputId": "c4934026-8670-48d8-8f7a-e1f2c54e52eb"
      },
      "execution_count": 34,
      "outputs": [
        {
          "output_type": "execute_result",
          "data": {
            "text/plain": [
              "1.4142135623730951"
            ]
          },
          "metadata": {},
          "execution_count": 34
        }
      ]
    },
    {
      "cell_type": "markdown",
      "source": [
        "## Calculating the Distance between Two Vectors with `np.linalg.norm()`\n",
        "\n",
        "The distance between two vectors, 'a' and 'b', can be determined by calculating the norm (magnitude) of the difference vector 'a - b' using the `np.linalg.norm()` function in NumPy.\n",
        "\n",
        "- Syntax: `np.linalg.norm(a - b)`\n",
        "\n",
        "This calculation measures the length of the vector 'a - b,' providing the distance between vectors 'a' and 'b' in the specified vector space.\n",
        "\n",
        "The ability to compute the distance between vectors is valuable in a wide range of applications, including data analysis, machine learning, and geometry, where measuring the dissimilarity or similarity between data points or vectors is essential."
      ],
      "metadata": {
        "id": "7szTPRYmaWma"
      }
    },
    {
      "cell_type": "code",
      "source": [
        "a1 = np.array([1, 3, 4])\n",
        "a2 = np.array([3, 5, 6])\n",
        "\n",
        "np.linalg.norm(a1-a2)"
      ],
      "metadata": {
        "colab": {
          "base_uri": "https://localhost:8080/"
        },
        "id": "EA4UqD_KaDd3",
        "outputId": "3bd9c407-5d4d-4c39-fc90-b374c6a01dc6"
      },
      "execution_count": 37,
      "outputs": [
        {
          "output_type": "execute_result",
          "data": {
            "text/plain": [
              "3.4641016151377544"
            ]
          },
          "metadata": {},
          "execution_count": 37
        }
      ]
    },
    {
      "cell_type": "markdown",
      "source": [
        "## Finding the Index of the Minimum Value with np.argmin()\n",
        "\n",
        "The `np.argmin()` function in NumPy is used to return the index (or indices) of the minimum values along a specified axis in an array.\n",
        "\n",
        "- Syntax: `np.argmin(a, axis=None)`\n",
        "\n",
        "- `a`: The input array in which you want to find the minimum value.\n",
        "- `axis` (optional): The axis along which to search for the minimum value. Default is None, which means the array is flattened before searching.\n",
        "\n",
        "The function returns the index (or indices) of the minimum value in the specified axis. If `axis` is not provided, the function searches for the minimum value across the entire array.\n",
        "\n",
        "This function is valuable for tasks such as identifying the location of the minimum value within an array or selecting specific elements based on their minimum value."
      ],
      "metadata": {
        "id": "rVSuCkZNdzyE"
      }
    },
    {
      "cell_type": "code",
      "source": [
        "a = np.array([3, 5, 6, 6, 9, 14])\n",
        "np.argmin(a)"
      ],
      "metadata": {
        "colab": {
          "base_uri": "https://localhost:8080/"
        },
        "id": "7K903ANud1CJ",
        "outputId": "837ff2af-58a1-4f3e-ed88-c08c40bb77ce"
      },
      "execution_count": 38,
      "outputs": [
        {
          "output_type": "execute_result",
          "data": {
            "text/plain": [
              "0"
            ]
          },
          "metadata": {},
          "execution_count": 38
        }
      ]
    },
    {
      "cell_type": "markdown",
      "source": [
        "## Appending Values to an Array with `np.append()`\n",
        "\n",
        "The `np.append()` function in NumPy is used to append values to the end of an array.\n",
        "\n",
        "- Syntax: `np.append(array, values, axis=None)`\n",
        "\n",
        "  - `array`: The input array to which you want to append values.\n",
        "  - `values`: The values or array of values that you want to append.\n",
        "  - `axis` (optional): The axis along which to append the values. If not specified, both the input array and values are flattened before use.\n",
        "\n",
        "This function appends the specified values to the end of the given array and returns the resulting array. It's important to note that `np.append()` only creates a view of the array and does not modify the original array.\n",
        "\n",
        "It is commonly used for extending arrays by adding new elements or data points at the end."
      ],
      "metadata": {
        "id": "Od0SytMNeMNH"
      }
    },
    {
      "cell_type": "code",
      "source": [
        "x = np.array([3, 6, 8, 10, 13])\n",
        "np.append(x, 10)"
      ],
      "metadata": {
        "colab": {
          "base_uri": "https://localhost:8080/"
        },
        "id": "jwLtTQj8eNKD",
        "outputId": "b9a21b79-9ed1-4a94-86e3-edfb8702eaff"
      },
      "execution_count": 39,
      "outputs": [
        {
          "output_type": "execute_result",
          "data": {
            "text/plain": [
              "array([ 3,  6,  8, 10, 13, 10])"
            ]
          },
          "metadata": {},
          "execution_count": 39
        }
      ]
    },
    {
      "cell_type": "code",
      "source": [
        "np.append(x, [6, 9])"
      ],
      "metadata": {
        "colab": {
          "base_uri": "https://localhost:8080/"
        },
        "id": "9k9l-NIXeWuz",
        "outputId": "30be074d-dee5-4487-9aa4-3397fdea567c"
      },
      "execution_count": 40,
      "outputs": [
        {
          "output_type": "execute_result",
          "data": {
            "text/plain": [
              "array([ 3,  6,  8, 10, 13,  6,  9])"
            ]
          },
          "metadata": {},
          "execution_count": 40
        }
      ]
    },
    {
      "cell_type": "markdown",
      "source": [
        "## Calculating the Mean of an Array with `np.mean()`\n",
        "\n",
        "The `np.mean()` function in NumPy is used to compute the arithmetic mean (average) of the elements in an array along a specified axis.\n",
        "\n",
        "- Syntax: `np.mean(array, axis=None)`\n",
        "\n",
        "  - `array`: The input array for which you want to calculate the mean.\n",
        "  - `axis` (optional): The axis along which to compute the mean. Default is None, which means the array is flattened before finding the mean.\n",
        "\n",
        "The function returns the mean of the array's elements. When the `axis` parameter is not specified, the mean is calculated by flattening the entire array.\n",
        "\n",
        "This function is commonly used for calculating the average value of data in numerical computations, statistics, and various data analysis tasks."
      ],
      "metadata": {
        "id": "QtwjOiUSexFJ"
      }
    },
    {
      "cell_type": "code",
      "source": [
        "a = np.array([4, 7, 8])\n",
        "np.mean(a)"
      ],
      "metadata": {
        "colab": {
          "base_uri": "https://localhost:8080/"
        },
        "id": "CPbnKfW1eyxc",
        "outputId": "b17b0cf3-a61b-47e0-ca43-6a3d8a533d0a"
      },
      "execution_count": 41,
      "outputs": [
        {
          "output_type": "execute_result",
          "data": {
            "text/plain": [
              "6.333333333333333"
            ]
          },
          "metadata": {},
          "execution_count": 41
        }
      ]
    },
    {
      "cell_type": "markdown",
      "source": [
        "## Broadcasting in NumPy\n",
        "\n",
        "Broadcasting is a feature in NumPy that allows arrays with different shapes to be combined in a way that makes sense for element-wise operations. This functionality is particularly useful when working with arrays of different shapes or sizes.\n",
        "\n",
        "The key points to understand about broadcasting in NumPy are:\n",
        "\n",
        "- When performing element-wise operations between arrays, NumPy compares their shapes element by element, starting from the trailing dimensions and working backward.\n",
        "- Two dimensions are compatible when they are equal or one of them is 1.\n",
        "- Broadcasting allows operations on arrays with different shapes to be performed without the need for manual resizing or duplicating data.\n",
        "\n",
        "Overall, broadcasting simplifies element-wise operations between arrays of varying shapes, making it easier to work with and combine data efficiently in numerical computations and data analysis.\n"
      ],
      "metadata": {
        "id": "q5cVKg0hfQfC"
      }
    },
    {
      "cell_type": "code",
      "source": [
        "a1 = np.array([[1, 2], [4, 6]])\n",
        "a1"
      ],
      "metadata": {
        "colab": {
          "base_uri": "https://localhost:8080/"
        },
        "id": "YZNBF-YCfRW6",
        "outputId": "c4a1c573-632b-4801-ae58-4e861b0431fd"
      },
      "execution_count": 42,
      "outputs": [
        {
          "output_type": "execute_result",
          "data": {
            "text/plain": [
              "array([[1, 2],\n",
              "       [4, 6]])"
            ]
          },
          "metadata": {},
          "execution_count": 42
        }
      ]
    },
    {
      "cell_type": "code",
      "source": [
        "a1 + [1, 1]"
      ],
      "metadata": {
        "colab": {
          "base_uri": "https://localhost:8080/"
        },
        "id": "So_81fcLfgPq",
        "outputId": "de5a14e2-8c43-43e6-ea0c-dbb2ad3c5ef3"
      },
      "execution_count": 43,
      "outputs": [
        {
          "output_type": "execute_result",
          "data": {
            "text/plain": [
              "array([[2, 3],\n",
              "       [5, 7]])"
            ]
          },
          "metadata": {},
          "execution_count": 43
        }
      ]
    },
    {
      "cell_type": "markdown",
      "source": [
        "## Accessing array elements"
      ],
      "metadata": {
        "id": "DzUx0okJfyG9"
      }
    },
    {
      "cell_type": "code",
      "source": [
        "x = np.array([1, 4, 5, 7, 8, 10, 95, 55])\n",
        "x[[1, 3, 7]]"
      ],
      "metadata": {
        "colab": {
          "base_uri": "https://localhost:8080/"
        },
        "id": "0LDS219Uf0w-",
        "outputId": "9418a672-2fd6-4160-b9e3-c857ebfb4900"
      },
      "execution_count": 46,
      "outputs": [
        {
          "output_type": "execute_result",
          "data": {
            "text/plain": [
              "array([ 4,  7, 55])"
            ]
          },
          "metadata": {},
          "execution_count": 46
        }
      ]
    },
    {
      "cell_type": "code",
      "source": [
        "x[[True, False, True, False, False, True, True, False]]"
      ],
      "metadata": {
        "colab": {
          "base_uri": "https://localhost:8080/"
        },
        "id": "ErxyRrZUgO_n",
        "outputId": "d9ac1d3f-8fce-45af-8844-6c2d5477a6ba"
      },
      "execution_count": 47,
      "outputs": [
        {
          "output_type": "execute_result",
          "data": {
            "text/plain": [
              "array([ 1,  5, 10, 95])"
            ]
          },
          "metadata": {},
          "execution_count": 47
        }
      ]
    }
  ]
}